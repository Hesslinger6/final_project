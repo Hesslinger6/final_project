{
 "cells": [
  {
   "cell_type": "markdown",
   "id": "4567963d",
   "metadata": {},
   "source": [
    "# Child Mortality Final Project"
   ]
  },
  {
   "cell_type": "markdown",
   "id": "412b0a46",
   "metadata": {},
   "source": [
    "## Data Wrangling"
   ]
  },
  {
   "cell_type": "code",
   "execution_count": 2,
   "id": "fb86cd08",
   "metadata": {},
   "outputs": [],
   "source": [
    "import pandas as pd"
   ]
  },
  {
   "cell_type": "code",
   "execution_count": 14,
   "id": "f756c1b9",
   "metadata": {},
   "outputs": [],
   "source": [
    "df = pd.read_excel(\"/Users/rexowl/Desktop/FINAL.xlsx\", sheet_name='Sheet1')"
   ]
  },
  {
   "cell_type": "code",
   "execution_count": 15,
   "id": "2d56c66e",
   "metadata": {},
   "outputs": [
    {
     "data": {
      "text/html": [
       "<div>\n",
       "<style scoped>\n",
       "    .dataframe tbody tr th:only-of-type {\n",
       "        vertical-align: middle;\n",
       "    }\n",
       "\n",
       "    .dataframe tbody tr th {\n",
       "        vertical-align: top;\n",
       "    }\n",
       "\n",
       "    .dataframe thead th {\n",
       "        text-align: right;\n",
       "    }\n",
       "</style>\n",
       "<table border=\"1\" class=\"dataframe\">\n",
       "  <thead>\n",
       "    <tr style=\"text-align: right;\">\n",
       "      <th></th>\n",
       "      <th>Year</th>\n",
       "      <th>Afghanistan Lower</th>\n",
       "      <th>Afghanistan Median</th>\n",
       "      <th>Afghanistan Upper</th>\n",
       "      <th>Albania Lower</th>\n",
       "      <th>Albania Median</th>\n",
       "      <th>Albania Upper</th>\n",
       "      <th>Algeria Lower</th>\n",
       "      <th>Algeria Median</th>\n",
       "      <th>Algeria Upper</th>\n",
       "      <th>...</th>\n",
       "      <th>Viet_Nam Upper</th>\n",
       "      <th>Yemen Lower</th>\n",
       "      <th>Yemen Median</th>\n",
       "      <th>Yemen Upper</th>\n",
       "      <th>Zambia Lower</th>\n",
       "      <th>Zambia Median</th>\n",
       "      <th>Zambia Upper</th>\n",
       "      <th>Zimbabwe Lower</th>\n",
       "      <th>Zimbabwe Median</th>\n",
       "      <th>Zimbabwe Upper</th>\n",
       "    </tr>\n",
       "  </thead>\n",
       "  <tbody>\n",
       "    <tr>\n",
       "      <th>0</th>\n",
       "      <td>1950.5</td>\n",
       "      <td>NaN</td>\n",
       "      <td>NaN</td>\n",
       "      <td>NaN</td>\n",
       "      <td>NaN</td>\n",
       "      <td>NaN</td>\n",
       "      <td>NaN</td>\n",
       "      <td>NaN</td>\n",
       "      <td>NaN</td>\n",
       "      <td>NaN</td>\n",
       "      <td>...</td>\n",
       "      <td>NaN</td>\n",
       "      <td>NaN</td>\n",
       "      <td>NaN</td>\n",
       "      <td>NaN</td>\n",
       "      <td>NaN</td>\n",
       "      <td>NaN</td>\n",
       "      <td>NaN</td>\n",
       "      <td>NaN</td>\n",
       "      <td>NaN</td>\n",
       "      <td>NaN</td>\n",
       "    </tr>\n",
       "    <tr>\n",
       "      <th>1</th>\n",
       "      <td>1951.5</td>\n",
       "      <td>NaN</td>\n",
       "      <td>NaN</td>\n",
       "      <td>NaN</td>\n",
       "      <td>NaN</td>\n",
       "      <td>NaN</td>\n",
       "      <td>NaN</td>\n",
       "      <td>NaN</td>\n",
       "      <td>NaN</td>\n",
       "      <td>NaN</td>\n",
       "      <td>...</td>\n",
       "      <td>NaN</td>\n",
       "      <td>NaN</td>\n",
       "      <td>NaN</td>\n",
       "      <td>NaN</td>\n",
       "      <td>NaN</td>\n",
       "      <td>NaN</td>\n",
       "      <td>NaN</td>\n",
       "      <td>NaN</td>\n",
       "      <td>NaN</td>\n",
       "      <td>NaN</td>\n",
       "    </tr>\n",
       "    <tr>\n",
       "      <th>2</th>\n",
       "      <td>1952.5</td>\n",
       "      <td>NaN</td>\n",
       "      <td>NaN</td>\n",
       "      <td>NaN</td>\n",
       "      <td>NaN</td>\n",
       "      <td>NaN</td>\n",
       "      <td>NaN</td>\n",
       "      <td>NaN</td>\n",
       "      <td>NaN</td>\n",
       "      <td>NaN</td>\n",
       "      <td>...</td>\n",
       "      <td>NaN</td>\n",
       "      <td>NaN</td>\n",
       "      <td>NaN</td>\n",
       "      <td>NaN</td>\n",
       "      <td>NaN</td>\n",
       "      <td>NaN</td>\n",
       "      <td>NaN</td>\n",
       "      <td>NaN</td>\n",
       "      <td>NaN</td>\n",
       "      <td>NaN</td>\n",
       "    </tr>\n",
       "    <tr>\n",
       "      <th>3</th>\n",
       "      <td>1953.5</td>\n",
       "      <td>NaN</td>\n",
       "      <td>NaN</td>\n",
       "      <td>NaN</td>\n",
       "      <td>NaN</td>\n",
       "      <td>NaN</td>\n",
       "      <td>NaN</td>\n",
       "      <td>NaN</td>\n",
       "      <td>NaN</td>\n",
       "      <td>NaN</td>\n",
       "      <td>...</td>\n",
       "      <td>NaN</td>\n",
       "      <td>NaN</td>\n",
       "      <td>NaN</td>\n",
       "      <td>NaN</td>\n",
       "      <td>178.392839</td>\n",
       "      <td>234.418232</td>\n",
       "      <td>308.531403</td>\n",
       "      <td>NaN</td>\n",
       "      <td>NaN</td>\n",
       "      <td>NaN</td>\n",
       "    </tr>\n",
       "    <tr>\n",
       "      <th>4</th>\n",
       "      <td>1954.5</td>\n",
       "      <td>NaN</td>\n",
       "      <td>NaN</td>\n",
       "      <td>NaN</td>\n",
       "      <td>NaN</td>\n",
       "      <td>NaN</td>\n",
       "      <td>NaN</td>\n",
       "      <td>181.095341</td>\n",
       "      <td>242.618134</td>\n",
       "      <td>323.057628</td>\n",
       "      <td>...</td>\n",
       "      <td>NaN</td>\n",
       "      <td>NaN</td>\n",
       "      <td>NaN</td>\n",
       "      <td>NaN</td>\n",
       "      <td>182.812119</td>\n",
       "      <td>229.885196</td>\n",
       "      <td>289.605718</td>\n",
       "      <td>127.126049</td>\n",
       "      <td>172.525838</td>\n",
       "      <td>236.717597</td>\n",
       "    </tr>\n",
       "  </tbody>\n",
       "</table>\n",
       "<p>5 rows × 586 columns</p>\n",
       "</div>"
      ],
      "text/plain": [
       "     Year  Afghanistan Lower  Afghanistan Median  Afghanistan Upper  \\\n",
       "0  1950.5                NaN                 NaN                NaN   \n",
       "1  1951.5                NaN                 NaN                NaN   \n",
       "2  1952.5                NaN                 NaN                NaN   \n",
       "3  1953.5                NaN                 NaN                NaN   \n",
       "4  1954.5                NaN                 NaN                NaN   \n",
       "\n",
       "   Albania Lower  Albania Median  Albania Upper  Algeria Lower  \\\n",
       "0            NaN             NaN            NaN            NaN   \n",
       "1            NaN             NaN            NaN            NaN   \n",
       "2            NaN             NaN            NaN            NaN   \n",
       "3            NaN             NaN            NaN            NaN   \n",
       "4            NaN             NaN            NaN     181.095341   \n",
       "\n",
       "   Algeria Median  Algeria Upper  ...  Viet_Nam Upper  Yemen Lower  \\\n",
       "0             NaN            NaN  ...             NaN          NaN   \n",
       "1             NaN            NaN  ...             NaN          NaN   \n",
       "2             NaN            NaN  ...             NaN          NaN   \n",
       "3             NaN            NaN  ...             NaN          NaN   \n",
       "4      242.618134     323.057628  ...             NaN          NaN   \n",
       "\n",
       "   Yemen Median  Yemen Upper  Zambia Lower  Zambia Median  Zambia Upper  \\\n",
       "0           NaN          NaN           NaN            NaN           NaN   \n",
       "1           NaN          NaN           NaN            NaN           NaN   \n",
       "2           NaN          NaN           NaN            NaN           NaN   \n",
       "3           NaN          NaN    178.392839     234.418232    308.531403   \n",
       "4           NaN          NaN    182.812119     229.885196    289.605718   \n",
       "\n",
       "   Zimbabwe Lower  Zimbabwe Median  Zimbabwe Upper  \n",
       "0             NaN              NaN             NaN  \n",
       "1             NaN              NaN             NaN  \n",
       "2             NaN              NaN             NaN  \n",
       "3             NaN              NaN             NaN  \n",
       "4      127.126049       172.525838      236.717597  \n",
       "\n",
       "[5 rows x 586 columns]"
      ]
     },
     "execution_count": 15,
     "metadata": {},
     "output_type": "execute_result"
    }
   ],
   "source": [
    "df.head()"
   ]
  },
  {
   "cell_type": "markdown",
   "id": "32b40737",
   "metadata": {},
   "source": [
    "### First thing I needed to do was change the year into an Integer"
   ]
  },
  {
   "cell_type": "code",
   "execution_count": 16,
   "id": "fd31694f",
   "metadata": {},
   "outputs": [],
   "source": [
    "df.Year = df.Year.astype(int)"
   ]
  },
  {
   "cell_type": "markdown",
   "id": "c9989829",
   "metadata": {},
   "source": [
    "### Then, I needed to melt the data so that I could upload it into Tableu into a readable format"
   ]
  },
  {
   "cell_type": "code",
   "execution_count": 18,
   "id": "326e17a6",
   "metadata": {},
   "outputs": [],
   "source": [
    "df = df.melt(id_vars=df.columns[0], var_name='Country', value_name='Value').dropna()"
   ]
  },
  {
   "cell_type": "markdown",
   "id": "80ea2f1f",
   "metadata": {},
   "source": [
    "### Once the data was wrangled I exported the dataset to my computer and uploaded it into Tableau"
   ]
  },
  {
   "cell_type": "code",
   "execution_count": 22,
   "id": "4ee461c7",
   "metadata": {},
   "outputs": [],
   "source": [
    "df.to_excel(\"Final Project Dataset Edited Official Final.xlsx\", sheet_name='Sheet1', index=False)"
   ]
  }
 ],
 "metadata": {
  "kernelspec": {
   "display_name": "Python 3",
   "language": "python",
   "name": "python3"
  },
  "language_info": {
   "codemirror_mode": {
    "name": "ipython",
    "version": 3
   },
   "file_extension": ".py",
   "mimetype": "text/x-python",
   "name": "python",
   "nbconvert_exporter": "python",
   "pygments_lexer": "ipython3",
   "version": "3.8.8"
  }
 },
 "nbformat": 4,
 "nbformat_minor": 5
}
